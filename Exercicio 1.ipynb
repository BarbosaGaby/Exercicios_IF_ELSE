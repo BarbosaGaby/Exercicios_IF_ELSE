{
  "nbformat": 4,
  "nbformat_minor": 0,
  "metadata": {
    "colab": {
      "provenance": []
    },
    "kernelspec": {
      "name": "python3",
      "display_name": "Python 3"
    },
    "language_info": {
      "name": "python"
    }
  },
  "cells": [
    {
      "cell_type": "code",
      "execution_count": 5,
      "metadata": {
        "colab": {
          "base_uri": "https://localhost:8080/"
        },
        "id": "JPBzWKh9_TvT",
        "outputId": "c9e0d0d2-a601-40f9-e960-52f553480fdc"
      },
      "outputs": [
        {
          "output_type": "stream",
          "name": "stdout",
          "text": [
            "digite o número-1\n",
            "O seu número é negativo.\n"
          ]
        }
      ],
      "source": [
        "#Exercício 2:\n",
        "a= int (input(\"digite o número \")) # a variável ‘’a’’ esta recebendo o valor digitado pelo input do usuário.\n",
        "\n",
        "if a > 0: # se o valor de a for maior que 0 então\n",
        " print (\"O seu número é positivo.\")\n",
        "\n",
        "elif a==0: # se o valor de a for igual a 0 então\n",
        " print (\" O seu numero é zero.\")\n",
        "\n",
        "else: #se o valor for menor que 0 então\n",
        " print(\"O seu número é negativo.\")\n"
      ]
    }
  ]
}