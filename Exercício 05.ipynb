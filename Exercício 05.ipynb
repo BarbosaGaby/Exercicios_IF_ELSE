{
  "nbformat": 4,
  "nbformat_minor": 0,
  "metadata": {
    "colab": {
      "provenance": []
    },
    "kernelspec": {
      "name": "python3",
      "display_name": "Python 3"
    },
    "language_info": {
      "name": "python"
    }
  },
  "cells": [
    {
      "cell_type": "code",
      "execution_count": 3,
      "metadata": {
        "colab": {
          "base_uri": "https://localhost:8080/"
        },
        "id": "uxk2Rtx98xEM",
        "outputId": "bdacf0b0-34a0-424c-c2c4-df0ab792e77b"
      },
      "outputs": [
        {
          "output_type": "stream",
          "name": "stdout",
          "text": [
            "Digite o primeiro número: 1\n",
            "Digite o segundo número: 2\n",
            "Digite o terceiro número: 3\n",
            "3\n"
          ]
        }
      ],
      "source": [
        "#Exercício 5:\n",
        "a=int (input(\"Digite o primeiro número: \")) # a variável ‘’a’’ esta recebendo o valor digitado pelo input do usuário.\n",
        "b=int (input( \"Digite o segundo número: \")) # a variável ‘’b’’ esta recebendo o valor digitado pelo input do usuário.\n",
        "c=int (input(\"Digite o terceiro número: \")) # a variável ‘’c’’ esta recebendo o valor digitado pelo input do usuário.\n",
        "\n",
        "if a > b and a > c:\n",
        " print(a)\n",
        "elif b > a and b > c:\n",
        " print(b)\n",
        "else:\n",
        " print(c)"
      ]
    }
  ]
}