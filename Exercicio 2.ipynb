{
  "nbformat": 4,
  "nbformat_minor": 0,
  "metadata": {
    "colab": {
      "provenance": []
    },
    "kernelspec": {
      "name": "python3",
      "display_name": "Python 3"
    },
    "language_info": {
      "name": "python"
    }
  },
  "cells": [
    {
      "cell_type": "code",
      "execution_count": 7,
      "metadata": {
        "colab": {
          "base_uri": "https://localhost:8080/"
        },
        "id": "JPBzWKh9_TvT",
        "outputId": "a3b2c2dc-36be-4229-938e-77cc96a22d51"
      },
      "outputs": [
        {
          "output_type": "stream",
          "name": "stdout",
          "text": [
            "Informe seu gênero F/M m\n",
            "masculino.\n"
          ]
        }
      ],
      "source": [
        "#Exercício 2:\n",
        "a=  (input(\"Informe seu gênero F/M \")) # a variável ‘’a’’ está recebendo digitado pelo input do usuário o caracter sobre o seu gênero.\n",
        "\n",
        "if a== \"F\" or a== \"f\": # se o caracter de a for F ou , então\n",
        " print (\"feminino.\")\n",
        "\n",
        "elif a==\"M\" or a==\"m\": #se o caracter de a for M ou m então\n",
        " print(\"masculino.\")\n",
        "\n",
        "else: #se o caracter de a for diferente de F,f,M ou m então\n",
        " print (\"gênero invalido.\")"
      ]
    }
  ]
}