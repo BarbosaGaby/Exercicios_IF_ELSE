{
  "nbformat": 4,
  "nbformat_minor": 0,
  "metadata": {
    "colab": {
      "provenance": []
    },
    "kernelspec": {
      "name": "python3",
      "display_name": "Python 3"
    },
    "language_info": {
      "name": "python"
    }
  },
  "cells": [
    {
      "cell_type": "code",
      "execution_count": 1,
      "metadata": {
        "colab": {
          "base_uri": "https://localhost:8080/"
        },
        "id": "uxk2Rtx98xEM",
        "outputId": "904ecc7f-14d8-4799-e5e2-43fe5f6e17ab"
      },
      "outputs": [
        {
          "output_type": "stream",
          "name": "stdout",
          "text": [
            "Digite sua nota da primeira parcial 9\n",
            "Digite sua nota da segunda parcial 8\n",
            "Você foi aprovado(a).\n"
          ]
        }
      ],
      "source": [
        "#Exercício 4:\n",
        "parcial1= float(input(\"Digite sua nota da primeira parcial \"))\n",
        "parcial2= float(input(\"Digite sua nota da segunda parcial \"))\n",
        "media= (parcial1+parcial2) /2\n",
        "\n",
        "if media==10: #se a media das parciais forem 10 entao\n",
        " print(\"Você foi aprovado(a) com distinção!\")\n",
        "\n",
        "elif media >=7 and media <10: #se a media das parciais forem de 7 pra mais, então\n",
        " print(\"Você foi aprovado(a).\")\n",
        "\n",
        "else:\n",
        " print(\"Você foi reprovado(a).\")"
      ]
    }
  ]
}