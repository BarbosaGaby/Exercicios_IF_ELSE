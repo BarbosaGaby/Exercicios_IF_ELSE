{
  "nbformat": 4,
  "nbformat_minor": 0,
  "metadata": {
    "colab": {
      "provenance": []
    },
    "kernelspec": {
      "name": "python3",
      "display_name": "Python 3"
    },
    "language_info": {
      "name": "python"
    }
  },
  "cells": [
    {
      "cell_type": "code",
      "execution_count": 9,
      "metadata": {
        "colab": {
          "base_uri": "https://localhost:8080/"
        },
        "id": "JPBzWKh9_TvT",
        "outputId": "65274cdc-a94c-473a-da01-ab534f88ea87"
      },
      "outputs": [
        {
          "output_type": "stream",
          "name": "stdout",
          "text": [
            "Digite uma letra: a\n",
            "é uma vogal.\n"
          ]
        }
      ],
      "source": [
        "#Exercício 3:\n",
        "x= (input(\"Digite uma letra: \")) # a variável ‘’x’’ esta recebendo o caracter digitado pelo input do usuário.\n",
        "if x== \"a\" or x==\"A\" or x==\"e\" or x==\"E\" or x==\"I\" or x==\"i\" or x==\"O\" or x==\"o\" or x==\"U\" or x== \"u\": # se o caractere de a for alguma vogal entao\n",
        " print (\"é uma vogal.\")\n",
        "else: #se o caracter de a não for nenhuma vogal entao\n",
        " print (\"não é uma vogal.\")"
      ]
    }
  ]
}