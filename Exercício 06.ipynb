{
  "nbformat": 4,
  "nbformat_minor": 0,
  "metadata": {
    "colab": {
      "provenance": []
    },
    "kernelspec": {
      "name": "python3",
      "display_name": "Python 3"
    },
    "language_info": {
      "name": "python"
    }
  },
  "cells": [
    {
      "cell_type": "code",
      "execution_count": 7,
      "metadata": {
        "colab": {
          "base_uri": "https://localhost:8080/"
        },
        "id": "uxk2Rtx98xEM",
        "outputId": "9a20f519-5859-45b2-9cb2-a57f7737fce6"
      },
      "outputs": [
        {
          "output_type": "stream",
          "name": "stdout",
          "text": [
            "Insira o valor do primeiro produto: 20\n",
            "Insira o valor do segundo produto: 30\n",
            "Insira o valor do terceiro produto: 11\n",
            "11.0\n"
          ]
        }
      ],
      "source": [
        "#Exercício 6:\n",
        "a=float (input(\"Insira o valor do primeiro produto: \")) # a variável ‘’a’’ esta recebendo o valor inserido pelo input do usuário.\n",
        "b=float (input(\"Insira o valor do segundo produto: \")) # a variável ‘’b’’ esta recebendo o valor inserido pelo input do usuário.\n",
        "c=float (input(\"Insira o valor do terceiro produto: \")) # a variável ‘’c’’ esta recebendo o valor inserido pelo input do usuário.\n",
        "\n",
        "if a < b and a < c: # Se o produto “a” for o mais barato então\n",
        " print(a)\n",
        "elif b < a and b < c: # Se o produto “b” for o mais barato então\n",
        " print(b)\n",
        "else:  # Se o produto “c” for o mais barato então\n",
        " print(c)"
      ]
    }
  ]
}